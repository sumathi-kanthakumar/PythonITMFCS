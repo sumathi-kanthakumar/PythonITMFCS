{
 "cells": [
  {
   "cell_type": "markdown",
   "metadata": {},
   "source": [
    "# Home Work"
   ]
  },
  {
   "cell_type": "markdown",
   "metadata": {},
   "source": [
    "Q1. Write a function that computes the volume of a sphere given its radius.\n",
    "\n",
    "The volume of a sphere is given as\n",
    "\n",
    "4/3x πxr**3"
   ]
  },
  {
   "cell_type": "code",
   "execution_count": 2,
   "metadata": {},
   "outputs": [],
   "source": [
    "def volume(rad):\n",
    "    return (4 * 3.14 * (rad ** 3))/4"
   ]
  },
  {
   "cell_type": "code",
   "execution_count": 3,
   "metadata": {},
   "outputs": [
    {
     "data": {
      "text/plain": [
       "25.12"
      ]
     },
     "execution_count": 3,
     "metadata": {},
     "output_type": "execute_result"
    }
   ],
   "source": [
    "# Check\n",
    "volume(2)"
   ]
  },
  {
   "cell_type": "markdown",
   "metadata": {},
   "source": [
    "Q2. Write a function that checks whether a number is in a given range (inclusive of high and low)"
   ]
  },
  {
   "cell_type": "code",
   "execution_count": 7,
   "metadata": {},
   "outputs": [],
   "source": [
    "def range_chk(num,low,high):\n",
    "    if num >= low and num <= high : \n",
    "       return True\n",
    "    return False"
   ]
  },
  {
   "cell_type": "code",
   "execution_count": 9,
   "metadata": {},
   "outputs": [
    {
     "data": {
      "text/plain": [
       "False"
      ]
     },
     "execution_count": 9,
     "metadata": {},
     "output_type": "execute_result"
    }
   ],
   "source": [
    "range_chk(21, 5,20)"
   ]
  },
  {
   "cell_type": "markdown",
   "metadata": {},
   "source": [
    "Q3. Write a Python function that accepts a string and calculates the number of upper case letters and lower case letters.\n",
    "\n",
    "Sample String : 'Hello Mr. Rogers, how are you this fine Tuesday?'\n",
    "\n",
    "Expected Output : \n",
    "\n",
    "No. of Upper case characters : 4\n",
    "\n",
    "No. of Lower case Characters : 33\n"
   ]
  },
  {
   "cell_type": "code",
   "execution_count": 15,
   "metadata": {},
   "outputs": [],
   "source": [
    "def up_low(sentence):\n",
    "    upper = 0\n",
    "    lower = 0\n",
    "    for s in sentence :\n",
    "        if s.isupper():\n",
    "            upper = upper +1\n",
    "        else :\n",
    "            lower = lower + 1\n",
    "    print (\"Upper case \", upper)\n",
    "    print (\"Lower case \", lower)\n",
    "    "
   ]
  },
  {
   "cell_type": "code",
   "execution_count": 16,
   "metadata": {},
   "outputs": [
    {
     "name": "stdout",
     "output_type": "stream",
     "text": [
      "Upper case  2\n",
      "Lower case  3\n"
     ]
    }
   ],
   "source": [
    "up_low('aSDda')"
   ]
  },
  {
   "cell_type": "markdown",
   "metadata": {},
   "source": [
    "Q4. Write a Python function to check whether a string is pangram or not.\n",
    "\n",
    "Note : Pangrams are words or sentences containing every letter of the alphabet at least once.\n",
    "For example : \"The quick brown fox jumps over the lazy dog\""
   ]
  },
  {
   "cell_type": "code",
   "execution_count": 10,
   "metadata": {},
   "outputs": [],
   "source": [
    "\n",
    "def ispangram(str1):\n",
    "    pass"
   ]
  },
  {
   "cell_type": "markdown",
   "metadata": {},
   "source": [
    "Q5. MASTER YODA: Given a sentence, return a sentence with the words reversed\n",
    "\n",
    "master_yoda('I am home') --> 'home am I'\n",
    "\n",
    "master_yoda('We are ready') --> 'ready are We'\n",
    "\n"
   ]
  },
  {
   "cell_type": "code",
   "execution_count": 11,
   "metadata": {},
   "outputs": [],
   "source": [
    "def master_yoda(text):\n",
    "    pass"
   ]
  },
  {
   "cell_type": "code",
   "execution_count": null,
   "metadata": {},
   "outputs": [],
   "source": []
  }
 ],
 "metadata": {
  "kernelspec": {
   "display_name": "Python 3",
   "language": "python",
   "name": "python3"
  },
  "language_info": {
   "codemirror_mode": {
    "name": "ipython",
    "version": 3
   },
   "file_extension": ".py",
   "mimetype": "text/x-python",
   "name": "python",
   "nbconvert_exporter": "python",
   "pygments_lexer": "ipython3",
   "version": "3.7.1"
  }
 },
 "nbformat": 4,
 "nbformat_minor": 2
}
