{
 "cells": [
  {
   "cell_type": "code",
   "execution_count": 1,
   "metadata": {},
   "outputs": [],
   "source": [
    "# Try and Except"
   ]
  },
  {
   "cell_type": "code",
   "execution_count": 20,
   "metadata": {},
   "outputs": [
    {
     "name": "stdout",
     "output_type": "stream",
     "text": [
      "Content written successfully\n",
      "This will execute eveytime\n"
     ]
    }
   ],
   "source": [
    "try:\n",
    "    f = open('test.txt','w')\n",
    "    f.write(\"The exam is on 12th March, Be Prepared\")\n",
    "except IOError:\n",
    "    print('Error: could not find the file or write the data')\n",
    "else:\n",
    "    print(\"Content written successfully\")\n",
    "finally:\n",
    "    print(\"This will execute eveytime\")\n",
    "    f.close()"
   ]
  },
  {
   "cell_type": "code",
   "execution_count": 19,
   "metadata": {},
   "outputs": [
    {
     "name": "stdout",
     "output_type": "stream",
     "text": [
      "Error: could not find the file or read the data\n",
      "This will execute eveytime\n"
     ]
    }
   ],
   "source": [
    "try:\n",
    "    f = open('test1.txt','r')\n",
    "    #f.write(\"The exam is on 12th March, Be Prepared\")\n",
    "    #f.read()\n",
    "except IOError:\n",
    "    print('Error: could not find the file or read the data')\n",
    "else:\n",
    "    print(\"Content written successfully\");\n",
    "finally:\n",
    "    print(\"This will execute eveytime\")\n",
    "    f.close()"
   ]
  },
  {
   "cell_type": "code",
   "execution_count": 11,
   "metadata": {},
   "outputs": [
    {
     "name": "stdout",
     "output_type": "stream",
     "text": [
      "Error occured\n"
     ]
    }
   ],
   "source": [
    "try:\n",
    "    x = 5\n",
    "    y = 0\n",
    "    z = x/y\n",
    "except:\n",
    "    print(\"Error occured\")"
   ]
  },
  {
   "cell_type": "code",
   "execution_count": 17,
   "metadata": {},
   "outputs": [
    {
     "name": "stdout",
     "output_type": "stream",
     "text": [
      "Out of Index\n",
      "An exception of type IndexError occurred. Arguments:\n",
      "('list index out of range',)\n"
     ]
    }
   ],
   "source": [
    "try:\n",
    "    fruits = ['apple','banana']\n",
    "    print(fruits[3])\n",
    "except Exception as ex:\n",
    "    print(\"Out of Index\")\n",
    "    template = \"An exception of type {0} occurred. Arguments:\\n{1!r}\"\n",
    "    message = template.format(type(ex).__name__, ex.args)\n",
    "    print(message)"
   ]
  },
  {
   "cell_type": "code",
   "execution_count": 27,
   "metadata": {},
   "outputs": [],
   "source": [
    "def askNumber():\n",
    "    try:\n",
    "        val = int(input(\"Please input a number\"))\n",
    "    except:\n",
    "        print(\"You have not entered a number\")\n",
    "    else:\n",
    "        print(\"Good, Entered a number\")\n",
    "    finally:\n",
    "        print(\"I will be always displayed\")\n",
    "    print(val)"
   ]
  },
  {
   "cell_type": "code",
   "execution_count": 29,
   "metadata": {},
   "outputs": [
    {
     "name": "stdout",
     "output_type": "stream",
     "text": [
      "Please input a number2343dfgdfg\n",
      "You have not entered a number\n",
      "I will be always displayed\n"
     ]
    },
    {
     "ename": "UnboundLocalError",
     "evalue": "local variable 'val' referenced before assignment",
     "output_type": "error",
     "traceback": [
      "\u001b[1;31m---------------------------------------------------------------------------\u001b[0m",
      "\u001b[1;31mUnboundLocalError\u001b[0m                         Traceback (most recent call last)",
      "\u001b[1;32m<ipython-input-29-cb53e566bda1>\u001b[0m in \u001b[0;36m<module>\u001b[1;34m\u001b[0m\n\u001b[1;32m----> 1\u001b[1;33m \u001b[0maskNumber\u001b[0m\u001b[1;33m(\u001b[0m\u001b[1;33m)\u001b[0m\u001b[1;33m\u001b[0m\u001b[1;33m\u001b[0m\u001b[0m\n\u001b[0m",
      "\u001b[1;32m<ipython-input-27-c0cdb481e498>\u001b[0m in \u001b[0;36maskNumber\u001b[1;34m()\u001b[0m\n\u001b[0;32m      8\u001b[0m     \u001b[1;32mfinally\u001b[0m\u001b[1;33m:\u001b[0m\u001b[1;33m\u001b[0m\u001b[1;33m\u001b[0m\u001b[0m\n\u001b[0;32m      9\u001b[0m         \u001b[0mprint\u001b[0m\u001b[1;33m(\u001b[0m\u001b[1;34m\"I will be always displayed\"\u001b[0m\u001b[1;33m)\u001b[0m\u001b[1;33m\u001b[0m\u001b[1;33m\u001b[0m\u001b[0m\n\u001b[1;32m---> 10\u001b[1;33m     \u001b[0mprint\u001b[0m\u001b[1;33m(\u001b[0m\u001b[0mval\u001b[0m\u001b[1;33m)\u001b[0m\u001b[1;33m\u001b[0m\u001b[1;33m\u001b[0m\u001b[0m\n\u001b[0m",
      "\u001b[1;31mUnboundLocalError\u001b[0m: local variable 'val' referenced before assignment"
     ]
    }
   ],
   "source": [
    " askNumber()"
   ]
  },
  {
   "cell_type": "markdown",
   "metadata": {},
   "source": [
    "# Testing Tool - Pylint"
   ]
  },
  {
   "cell_type": "code",
   "execution_count": 30,
   "metadata": {},
   "outputs": [
    {
     "name": "stdout",
     "output_type": "stream",
     "text": [
      "Requirement already satisfied: pylint in c:\\programdata\\anaconda3\\lib\\site-packages (2.2.2)\n",
      "Requirement already satisfied: astroid>=2.0.0 in c:\\programdata\\anaconda3\\lib\\site-packages (from pylint) (2.1.0)\n",
      "Requirement already satisfied: isort>=4.2.5 in c:\\programdata\\anaconda3\\lib\\site-packages (from pylint) (4.3.4)\n",
      "Requirement already satisfied: mccabe in c:\\programdata\\anaconda3\\lib\\site-packages (from pylint) (0.6.1)\n",
      "Requirement already satisfied: colorama in c:\\programdata\\anaconda3\\lib\\site-packages (from pylint) (0.4.1)\n",
      "Requirement already satisfied: lazy-object-proxy in c:\\programdata\\anaconda3\\lib\\site-packages (from astroid>=2.0.0->pylint) (1.3.1)\n",
      "Requirement already satisfied: six in c:\\programdata\\anaconda3\\lib\\site-packages (from astroid>=2.0.0->pylint) (1.12.0)\n",
      "Requirement already satisfied: wrapt in c:\\programdata\\anaconda3\\lib\\site-packages (from astroid>=2.0.0->pylint) (1.10.11)\n"
     ]
    }
   ],
   "source": [
    "! pip install pylint"
   ]
  },
  {
   "cell_type": "code",
   "execution_count": 39,
   "metadata": {},
   "outputs": [
    {
     "name": "stdout",
     "output_type": "stream",
     "text": [
      "Overwriting simple.py\n"
     ]
    }
   ],
   "source": [
    "%%writefile simple.py\n",
    "'''\n",
    "Simple python script\n",
    "'''\n",
    "FIRST = 1\n",
    "SECOND = 1\n",
    "print(FIRST)\n",
    "print(SECOND)"
   ]
  },
  {
   "cell_type": "code",
   "execution_count": 40,
   "metadata": {},
   "outputs": [
    {
     "name": "stdout",
     "output_type": "stream",
     "text": [
      "\n",
      "-------------------------------------------------------------------\n",
      "\n",
      "Your code has been rated at 10.00/10 (previous run: 7.50/10, +2.50)\n",
      "\n",
      "\n",
      "\n"
     ]
    }
   ],
   "source": [
    "!pylint simple.py"
   ]
  },
  {
   "cell_type": "code",
   "execution_count": 46,
   "metadata": {},
   "outputs": [
    {
     "name": "stdout",
     "output_type": "stream",
     "text": [
      "Overwriting simpledef.py\n"
     ]
    }
   ],
   "source": [
    "%%writefile simpledef.py\n",
    "'''\n",
    "Simple python script\n",
    "'''\n",
    "def myfile():\n",
    "    '''\n",
    "    Simple python script\n",
    "    '''\n",
    "    first = 1\n",
    "    second = 1\n",
    "    print(first)\n",
    "    print(second)"
   ]
  },
  {
   "cell_type": "code",
   "execution_count": 47,
   "metadata": {},
   "outputs": [
    {
     "name": "stdout",
     "output_type": "stream",
     "text": [
      "\n",
      "-------------------------------------------------------------------\n",
      "\n",
      "Your code has been rated at 10.00/10 (previous run: 6.00/10, +4.00)\n",
      "\n",
      "\n",
      "\n"
     ]
    }
   ],
   "source": [
    "!pylint simpledef.py"
   ]
  },
  {
   "cell_type": "markdown",
   "metadata": {},
   "source": [
    "# Unit Test"
   ]
  },
  {
   "cell_type": "code",
   "execution_count": 64,
   "metadata": {},
   "outputs": [
    {
     "name": "stdout",
     "output_type": "stream",
     "text": [
      "Overwriting capitalize_file.py\n"
     ]
    }
   ],
   "source": [
    "%%writefile capitalize_file.py\n",
    "def captitalize_text(text):\n",
    "    return text.capitalize()\n"
   ]
  },
  {
   "cell_type": "code",
   "execution_count": 72,
   "metadata": {},
   "outputs": [
    {
     "name": "stdout",
     "output_type": "stream",
     "text": [
      "Overwriting test_capitalize_file.py\n"
     ]
    }
   ],
   "source": [
    "%%writefile test_capitalize_file.py\n",
    "import unittest\n",
    "import capitalize_file\n",
    "class TestCapitalize(unittest.TestCase):\n",
    "    def test_one_word(self):\n",
    "        text = 'python'\n",
    "        result = capitalize_file.captitalize_text(text)\n",
    "        self.assertEqual(result,'Python')\n",
    "    def test_multiple_word(self):\n",
    "        text = 'python is growing'\n",
    "        result = capitalize_file.captitalize_text(text)\n",
    "        self.assertEqual(result,'Python is growing')\n",
    "if __name__ == '__main__':\n",
    "    unittest.main()"
   ]
  },
  {
   "cell_type": "code",
   "execution_count": 73,
   "metadata": {},
   "outputs": [
    {
     "name": "stderr",
     "output_type": "stream",
     "text": [
      "..\n",
      "----------------------------------------------------------------------\n",
      "Ran 2 tests in 0.000s\n",
      "\n",
      "OK\n"
     ]
    }
   ],
   "source": [
    "! python test_capitalize_file.py"
   ]
  },
  {
   "cell_type": "code",
   "execution_count": null,
   "metadata": {},
   "outputs": [],
   "source": []
  }
 ],
 "metadata": {
  "kernelspec": {
   "display_name": "Python 3",
   "language": "python",
   "name": "python3"
  },
  "language_info": {
   "codemirror_mode": {
    "name": "ipython",
    "version": 3
   },
   "file_extension": ".py",
   "mimetype": "text/x-python",
   "name": "python",
   "nbconvert_exporter": "python",
   "pygments_lexer": "ipython3",
   "version": "3.7.1"
  }
 },
 "nbformat": 4,
 "nbformat_minor": 2
}
