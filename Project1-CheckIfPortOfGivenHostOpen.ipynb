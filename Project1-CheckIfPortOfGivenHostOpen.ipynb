{
 "cells": [
  {
   "cell_type": "code",
   "execution_count": 7,
   "metadata": {},
   "outputs": [
    {
     "name": "stdout",
     "output_type": "stream",
     "text": [
      "Enter the Hostlocalhost\n",
      "Enter the port8888\n",
      "Port is open\n"
     ]
    }
   ],
   "source": [
    "import socket;\n",
    "host=\"localhost\"\n",
    "port=8889\n",
    "host = input(\"Enter the Host\")\n",
    "port = int(input(\"Enter the port\"))\n",
    "sock = socket.socket(socket.AF_INET, socket.SOCK_STREAM)\n",
    "result = sock.connect_ex((host,port))\n",
    "if result == 0:\n",
    "   print (\"Port is open\")\n",
    "else:\n",
    "   print (\"Port is not open\")"
   ]
  },
  {
   "cell_type": "code",
   "execution_count": 9,
   "metadata": {},
   "outputs": [
    {
     "name": "stdout",
     "output_type": "stream",
     "text": [
      "Enter the Hostlocalhost\n",
      "Enter the lowest port8885\n",
      "Enter the highest port8890\n",
      "Port 8885 is not open\n",
      "Port 8886 is not open\n",
      "Port 8887 is not open\n",
      "Port 8888 is open\n",
      "Port 8889 is not open\n",
      "Port 8890 is not open\n"
     ]
    }
   ],
   "source": [
    "import socket;\n",
    "host=\"localhost\"\n",
    "port=8889\n",
    "host = input(\"Enter the Host\")\n",
    "lowestPort = int(input(\"Enter the lowest port\"))\n",
    "highestPort = int(input(\"Enter the highest port\"))\n",
    "port = lowestPort\n",
    "while( port <= highestPort):\n",
    "    sock = socket.socket(socket.AF_INET, socket.SOCK_STREAM)\n",
    "    result = sock.connect_ex((host,port))\n",
    "    if result == 0:\n",
    "       print (\"Port {} is open\".format(port))\n",
    "    else:\n",
    "      print (\"Port {} is not open\".format(port))\n",
    "    port = port + 1"
   ]
  },
  {
   "cell_type": "code",
   "execution_count": null,
   "metadata": {},
   "outputs": [],
   "source": []
  }
 ],
 "metadata": {
  "kernelspec": {
   "display_name": "Python 3",
   "language": "python",
   "name": "python3"
  },
  "language_info": {
   "codemirror_mode": {
    "name": "ipython",
    "version": 3
   },
   "file_extension": ".py",
   "mimetype": "text/x-python",
   "name": "python",
   "nbconvert_exporter": "python",
   "pygments_lexer": "ipython3",
   "version": "3.7.1"
  }
 },
 "nbformat": 4,
 "nbformat_minor": 2
}
